{
 "cells": [
  {
   "cell_type": "markdown",
   "metadata": {},
   "source": [
    "<h1><center> <strong> Projet modèles linéaires avancés:\n",
    " &nbsp;\n",
    "<br />\n",
    "     &nbsp;\n",
    "<br />\n",
    "    Modèles linéaires mixtes généralisés <strong> </h1><center>\n",
    " &nbsp;\n",
    "&nbsp;\n",
    "&nbsp;\n",
    "&nbsp;\n",
    "<br />\n",
    "<br />\n",
    "<br />\n",
    "<br />\n",
    "<h2><center>AMAHJOUR Walid</center></h2>\n",
    "<h3><center>Novembre 2020</center></h3>\n",
    "&nbsp;\n",
    "&nbsp;\n",
    "&nbsp;\n",
    "&nbsp;\n",
    "<br />\n",
    "<br />\n",
    "<br />\n",
    "<br />\n",
    "&nbsp;\n",
    "&nbsp;\n",
    "&nbsp;\n",
    "&nbsp;\n",
    "<br />\n",
    "<br />\n",
    "<br />\n",
    "<br />"
   ]
  },
  {
   "cell_type": "code",
   "execution_count": 42,
   "metadata": {
    "hide_input": false
   },
   "outputs": [],
   "source": [
    "import pandas as pd\n",
    "import seaborn as sb\n",
    "import numpy as np\n",
    "import statsmodels.formula.api as smf\n",
    "import statsmodels.api as sm\n",
    "import matplotlib.pyplot as plt\n",
    "from statsmodels.formula.api import ols\n",
    "from pandas.plotting import scatter_matrix\n",
    "import scipy.stats as stats\n",
    "from math import *\n",
    "from statsmodels.genmod.bayes_mixed_glm import PoissonBayesMixedGLM, BinomialBayesMixedGLM \n",
    "from sklearn.linear_model import LinearRegression"
   ]
  },
  {
   "cell_type": "markdown",
   "metadata": {},
   "source": [
    "# Table des matières\n",
    "\n",
    "\n",
    "&nbsp;\n",
    "&nbsp;\n",
    "&nbsp;\n",
    "<br />\n",
    "<br />\n",
    "<br />\n",
    "## 1. Introduction\n",
    "\n",
    "&nbsp;\n",
    "&nbsp;\n",
    "<br />\n",
    "<br />\n",
    "\n",
    "## 2. Moindres carrés ordinaires\n",
    "\n",
    "&nbsp;\n",
    "&nbsp;\n",
    "<br />\n",
    "<br />\n",
    "\n",
    "## 3. Modèle linéaire généralisé\n",
    "\n",
    "&nbsp;\n",
    "&nbsp;\n",
    "<br />\n",
    "<br />\n",
    "\n",
    "## 4. Modèles linéaires mixtes généralisés\n",
    "\n",
    "\n",
    "&nbsp;\n",
    "&nbsp;\n",
    "<br />\n",
    "<br />\n",
    "\n",
    "\n",
    "\n"
   ]
  },
  {
   "cell_type": "markdown",
   "metadata": {},
   "source": [
    "## 1. Introduction"
   ]
  },
  {
   "cell_type": "markdown",
   "metadata": {},
   "source": [
    "Les modèles mixtes linéaires on une importante limitation, ils ne peuvent pas accepter des variables de réponse qui n'ont pas une distribution d'erreur normale. La plupart des données biologiques ne suivent pas l'hypothèse de normalité.<br/>\n",
    "Nous allons voir comment on peut appliquer les modèles linéaires généralisés, qui sont des outils importants pour surmonter les hypothèses de distribution des modèles linéaires. Nous allons voire les principaaux  distributions utilisées en fonction de la nature des variables de réponse, du concept de la fonction de lien et comment vérifier les hypothèses de ces modèles.<br/>\n",
    "Nous allons utiliser plusieurs jeu de données biologique tel que mites, CO2, faramea."
   ]
  },
  {
   "cell_type": "markdown",
   "metadata": {},
   "source": [
    "## 2. Moindres carrés ordinaires"
   ]
  },
  {
   "cell_type": "markdown",
   "metadata": {},
   "source": [
    "L'ensemble de données comprend 70 échantillons de mousses et d'acariens recueillis à la Station de biologie des Laurentides de l'Université de Montréal, Saint-Hippolyte, QC. Chaque échantillon comprend des mesures pour 5 variables environnementales et des données d'abondance pour 35 taxons d'acariens. Dans l'ensemble de données réduit que nous utiliserons tout au long de cet atelier, nous n'avons inclus que les 5 mesures environnementales et l'abondance d'un seul taxon d'acariens, «Galumna sp.» Notre objectif sera de modéliser l'abondance, l'occurrence (présence / absence) et la proportion de Galumna en fonction des 5 variables environnementales: par conséquent, nous avons également créé une variable présence / absence et une variable de proportion pour Galumna."
   ]
  },
  {
   "cell_type": "code",
   "execution_count": null,
   "metadata": {},
   "outputs": [],
   "source": []
  },
  {
   "cell_type": "code",
   "execution_count": 3,
   "metadata": {
    "cell_style": "split"
   },
   "outputs": [
    {
     "data": {
      "text/html": [
       "<div>\n",
       "<style scoped>\n",
       "    .dataframe tbody tr th:only-of-type {\n",
       "        vertical-align: middle;\n",
       "    }\n",
       "\n",
       "    .dataframe tbody tr th {\n",
       "        vertical-align: top;\n",
       "    }\n",
       "\n",
       "    .dataframe thead th {\n",
       "        text-align: right;\n",
       "    }\n",
       "</style>\n",
       "<table border=\"1\" class=\"dataframe\">\n",
       "  <thead>\n",
       "    <tr style=\"text-align: right;\">\n",
       "      <th></th>\n",
       "      <th>Galumna</th>\n",
       "      <th>pa</th>\n",
       "      <th>totalabund</th>\n",
       "      <th>prop</th>\n",
       "      <th>SubsDens</th>\n",
       "      <th>WatrCont</th>\n",
       "      <th>Substrate</th>\n",
       "      <th>Shrub</th>\n",
       "      <th>Topo</th>\n",
       "    </tr>\n",
       "  </thead>\n",
       "  <tbody>\n",
       "    <tr>\n",
       "      <th>0</th>\n",
       "      <td>8</td>\n",
       "      <td>1</td>\n",
       "      <td>140</td>\n",
       "      <td>0.057143</td>\n",
       "      <td>39.18</td>\n",
       "      <td>350.15</td>\n",
       "      <td>Sphagn1</td>\n",
       "      <td>Few</td>\n",
       "      <td>Hummock</td>\n",
       "    </tr>\n",
       "    <tr>\n",
       "      <th>1</th>\n",
       "      <td>3</td>\n",
       "      <td>1</td>\n",
       "      <td>268</td>\n",
       "      <td>0.011194</td>\n",
       "      <td>54.99</td>\n",
       "      <td>434.81</td>\n",
       "      <td>Litter</td>\n",
       "      <td>Few</td>\n",
       "      <td>Hummock</td>\n",
       "    </tr>\n",
       "    <tr>\n",
       "      <th>2</th>\n",
       "      <td>1</td>\n",
       "      <td>1</td>\n",
       "      <td>186</td>\n",
       "      <td>0.005376</td>\n",
       "      <td>46.07</td>\n",
       "      <td>371.72</td>\n",
       "      <td>Interface</td>\n",
       "      <td>Few</td>\n",
       "      <td>Hummock</td>\n",
       "    </tr>\n",
       "    <tr>\n",
       "      <th>3</th>\n",
       "      <td>1</td>\n",
       "      <td>1</td>\n",
       "      <td>286</td>\n",
       "      <td>0.003497</td>\n",
       "      <td>48.19</td>\n",
       "      <td>360.50</td>\n",
       "      <td>Sphagn1</td>\n",
       "      <td>Few</td>\n",
       "      <td>Hummock</td>\n",
       "    </tr>\n",
       "    <tr>\n",
       "      <th>4</th>\n",
       "      <td>2</td>\n",
       "      <td>1</td>\n",
       "      <td>199</td>\n",
       "      <td>0.010050</td>\n",
       "      <td>23.55</td>\n",
       "      <td>204.13</td>\n",
       "      <td>Sphagn1</td>\n",
       "      <td>Few</td>\n",
       "      <td>Hummock</td>\n",
       "    </tr>\n",
       "    <tr>\n",
       "      <th>...</th>\n",
       "      <td>...</td>\n",
       "      <td>...</td>\n",
       "      <td>...</td>\n",
       "      <td>...</td>\n",
       "      <td>...</td>\n",
       "      <td>...</td>\n",
       "      <td>...</td>\n",
       "      <td>...</td>\n",
       "      <td>...</td>\n",
       "    </tr>\n",
       "    <tr>\n",
       "      <th>65</th>\n",
       "      <td>0</td>\n",
       "      <td>0</td>\n",
       "      <td>116</td>\n",
       "      <td>0.000000</td>\n",
       "      <td>31.46</td>\n",
       "      <td>514.85</td>\n",
       "      <td>Sphagn1</td>\n",
       "      <td>None</td>\n",
       "      <td>Blanket</td>\n",
       "    </tr>\n",
       "    <tr>\n",
       "      <th>66</th>\n",
       "      <td>0</td>\n",
       "      <td>0</td>\n",
       "      <td>781</td>\n",
       "      <td>0.000000</td>\n",
       "      <td>52.12</td>\n",
       "      <td>826.96</td>\n",
       "      <td>Sphagn1</td>\n",
       "      <td>None</td>\n",
       "      <td>Blanket</td>\n",
       "    </tr>\n",
       "    <tr>\n",
       "      <th>67</th>\n",
       "      <td>0</td>\n",
       "      <td>0</td>\n",
       "      <td>111</td>\n",
       "      <td>0.000000</td>\n",
       "      <td>29.24</td>\n",
       "      <td>590.11</td>\n",
       "      <td>Sphagn1</td>\n",
       "      <td>None</td>\n",
       "      <td>Blanket</td>\n",
       "    </tr>\n",
       "    <tr>\n",
       "      <th>68</th>\n",
       "      <td>0</td>\n",
       "      <td>0</td>\n",
       "      <td>184</td>\n",
       "      <td>0.000000</td>\n",
       "      <td>29.33</td>\n",
       "      <td>479.23</td>\n",
       "      <td>Sphagn1</td>\n",
       "      <td>Many</td>\n",
       "      <td>Hummock</td>\n",
       "    </tr>\n",
       "    <tr>\n",
       "      <th>69</th>\n",
       "      <td>0</td>\n",
       "      <td>0</td>\n",
       "      <td>121</td>\n",
       "      <td>0.000000</td>\n",
       "      <td>22.36</td>\n",
       "      <td>517.36</td>\n",
       "      <td>Sphagn1</td>\n",
       "      <td>Many</td>\n",
       "      <td>Hummock</td>\n",
       "    </tr>\n",
       "  </tbody>\n",
       "</table>\n",
       "<p>70 rows × 9 columns</p>\n",
       "</div>"
      ],
      "text/plain": [
       "    Galumna  pa  totalabund      prop  SubsDens  WatrCont  Substrate Shrub  \\\n",
       "0         8   1         140  0.057143     39.18    350.15    Sphagn1   Few   \n",
       "1         3   1         268  0.011194     54.99    434.81     Litter   Few   \n",
       "2         1   1         186  0.005376     46.07    371.72  Interface   Few   \n",
       "3         1   1         286  0.003497     48.19    360.50    Sphagn1   Few   \n",
       "4         2   1         199  0.010050     23.55    204.13    Sphagn1   Few   \n",
       "..      ...  ..         ...       ...       ...       ...        ...   ...   \n",
       "65        0   0         116  0.000000     31.46    514.85    Sphagn1  None   \n",
       "66        0   0         781  0.000000     52.12    826.96    Sphagn1  None   \n",
       "67        0   0         111  0.000000     29.24    590.11    Sphagn1  None   \n",
       "68        0   0         184  0.000000     29.33    479.23    Sphagn1  Many   \n",
       "69        0   0         121  0.000000     22.36    517.36    Sphagn1  Many   \n",
       "\n",
       "       Topo  \n",
       "0   Hummock  \n",
       "1   Hummock  \n",
       "2   Hummock  \n",
       "3   Hummock  \n",
       "4   Hummock  \n",
       "..      ...  \n",
       "65  Blanket  \n",
       "66  Blanket  \n",
       "67  Blanket  \n",
       "68  Hummock  \n",
       "69  Hummock  \n",
       "\n",
       "[70 rows x 9 columns]"
      ]
     },
     "execution_count": 3,
     "metadata": {},
     "output_type": "execute_result"
    }
   ],
   "source": [
    "var=[\"Galumna\",\"pa\",\"totalabund\",\"prop\",\"SubsDens\",\"WatrCont\",\"Substrate\",\"Shrub\",\"Topo\"]\n",
    "mites=pd.read_csv(\"mites.csv\",sep=\",\",header=0,names=var)\n",
    "mites"
   ]
  },
  {
   "cell_type": "code",
   "execution_count": 4,
   "metadata": {
    "cell_style": "split",
    "scrolled": true
   },
   "outputs": [
    {
     "name": "stdout",
     "output_type": "stream",
     "text": [
      "<class 'pandas.core.frame.DataFrame'>\n",
      "RangeIndex: 70 entries, 0 to 69\n",
      "Data columns (total 9 columns):\n",
      " #   Column      Non-Null Count  Dtype  \n",
      "---  ------      --------------  -----  \n",
      " 0   Galumna     70 non-null     int64  \n",
      " 1   pa          70 non-null     int64  \n",
      " 2   totalabund  70 non-null     int64  \n",
      " 3   prop        70 non-null     float64\n",
      " 4   SubsDens    70 non-null     float64\n",
      " 5   WatrCont    70 non-null     float64\n",
      " 6   Substrate   70 non-null     object \n",
      " 7   Shrub       70 non-null     object \n",
      " 8   Topo        70 non-null     object \n",
      "dtypes: float64(3), int64(3), object(3)\n",
      "memory usage: 5.0+ KB\n"
     ]
    }
   ],
   "source": [
    "mites.info()"
   ]
  },
  {
   "cell_type": "markdown",
   "metadata": {},
   "source": [
    "Pour voirsi il'y a des relations entre Galumna et les cinq variables environnementales, nous allons construire le plot suivant."
   ]
  },
  {
   "cell_type": "code",
   "execution_count": 5,
   "metadata": {},
   "outputs": [
    {
     "data": {
      "image/png": "[encoded data removed]",
      "text/plain": [
       "<Figure size 864x720 with 36 Axes>"
      ]
     },
     "metadata": {
      "needs_background": "light"
     },
     "output_type": "display_data"
    }
   ],
   "source": [
    "scatter_matrix(mites, figsize=(12, 10), diagonal=var)\n",
    "plt.show()"
   ]
  },
  {
   "cell_type": "markdown",
   "metadata": {},
   "source": [
    "Nous constatons qu'il y aune relation negative entre la variable WatrCont et Galumna.Pour s'assuer nous allons construires les graphes suivants "
   ]
  },
  {
   "cell_type": "code",
   "execution_count": 6,
   "metadata": {},
   "outputs": [],
   "source": [
    "WatrCont_presence=mites.WatrCont.loc[mites.pa==1]\n",
    "WatrCont_absence=mites.WatrCont.loc[mites.pa==0]\n",
    "d = {'absence':WatrCont_absence,'presence':WatrCont_presence}\n",
    "df = pd.DataFrame(data=d)"
   ]
  },
  {
   "cell_type": "code",
   "execution_count": 7,
   "metadata": {},
   "outputs": [
    {
     "data": {
      "image/png": "[encoded data removed]",
      "text/plain": [
       "<Figure size 720x360 with 3 Axes>"
      ]
     },
     "metadata": {
      "needs_background": "light"
     },
     "output_type": "display_data"
    }
   ],
   "source": [
    "import matplotlib.gridspec as gridspec\n",
    "gs = gridspec.GridSpec(1,3, wspace=0.5)\n",
    "plt.figure(figsize=(10,5))\n",
    "ax = plt.subplot(gs[0, 0])\n",
    "plt.scatter(mites.WatrCont,mites.Galumna, c = 'red', marker = '.')\n",
    "plt.ylabel('Abundance')\n",
    "plt.xlabel('Water content')\n",
    "ax = plt.subplot(gs[0, 1])\n",
    "df.boxplot()\n",
    "ax = plt.subplot(gs[0, 2])\n",
    "plt.scatter(mites.WatrCont,mites.prop, c = 'red', marker = '.')\n",
    "plt.ylabel('Proportion')\n",
    "plt.xlabel('Water content')\n",
    "plt.show()"
   ]
  },
  {
   "cell_type": "markdown",
   "metadata": {},
   "source": [
    "Nous allons faire des modèles linéaires afin de verifier les relation entre Galumna et WatrCont, Galumna et pa, Galumna et prop. "
   ]
  },
  {
   "cell_type": "code",
   "execution_count": 10,
   "metadata": {
    "cell_style": "split"
   },
   "outputs": [
    {
     "data": {
      "text/html": [
       "<table class=\"simpletable\">\n",
       "<caption>OLS Regression Results</caption>\n",
       "<tr>\n",
       "  <th>Dep. Variable:</th>         <td>Galumna</td>     <th>  R-squared:         </th> <td>   0.247</td>\n",
       "</tr>\n",
       "<tr>\n",
       "  <th>Model:</th>                   <td>OLS</td>       <th>  Adj. R-squared:    </th> <td>   0.236</td>\n",
       "</tr>\n",
       "<tr>\n",
       "  <th>Method:</th>             <td>Least Squares</td>  <th>  F-statistic:       </th> <td>   22.31</td>\n",
       "</tr>\n",
       "<tr>\n",
       "  <th>Date:</th>             <td>Sun, 08 Nov 2020</td> <th>  Prob (F-statistic):</th> <td>1.21e-05</td>\n",
       "</tr>\n",
       "<tr>\n",
       "  <th>Time:</th>                 <td>13:05:03</td>     <th>  Log-Likelihood:    </th> <td> -127.32</td>\n",
       "</tr>\n",
       "<tr>\n",
       "  <th>No. Observations:</th>      <td>    70</td>      <th>  AIC:               </th> <td>   258.6</td>\n",
       "</tr>\n",
       "<tr>\n",
       "  <th>Df Residuals:</th>          <td>    68</td>      <th>  BIC:               </th> <td>   263.1</td>\n",
       "</tr>\n",
       "<tr>\n",
       "  <th>Df Model:</th>              <td>     1</td>      <th>                     </th>     <td> </td>   \n",
       "</tr>\n",
       "<tr>\n",
       "  <th>Covariance Type:</th>      <td>nonrobust</td>    <th>                     </th>     <td> </td>   \n",
       "</tr>\n",
       "</table>\n",
       "<table class=\"simpletable\">\n",
       "<tr>\n",
       "      <td></td>         <th>coef</th>     <th>std err</th>      <th>t</th>      <th>P>|t|</th>  <th>[0.025</th>    <th>0.975]</th>  \n",
       "</tr>\n",
       "<tr>\n",
       "  <th>Intercept</th> <td>    3.4393</td> <td>    0.556</td> <td>    6.188</td> <td> 0.000</td> <td>    2.330</td> <td>    4.548</td>\n",
       "</tr>\n",
       "<tr>\n",
       "  <th>WatrCont</th>  <td>   -0.0060</td> <td>    0.001</td> <td>   -4.723</td> <td> 0.000</td> <td>   -0.009</td> <td>   -0.003</td>\n",
       "</tr>\n",
       "</table>\n",
       "<table class=\"simpletable\">\n",
       "<tr>\n",
       "  <th>Omnibus:</th>       <td>48.057</td> <th>  Durbin-Watson:     </th> <td>   1.443</td>\n",
       "</tr>\n",
       "<tr>\n",
       "  <th>Prob(Omnibus):</th> <td> 0.000</td> <th>  Jarque-Bera (JB):  </th> <td> 156.946</td>\n",
       "</tr>\n",
       "<tr>\n",
       "  <th>Skew:</th>          <td> 2.184</td> <th>  Prob(JB):          </th> <td>8.31e-35</td>\n",
       "</tr>\n",
       "<tr>\n",
       "  <th>Kurtosis:</th>      <td> 8.894</td> <th>  Cond. No.          </th> <td>1.33e+03</td>\n",
       "</tr>\n",
       "</table><br/><br/>Warnings:<br/>[1] Standard Errors assume that the covariance matrix of the errors is correctly specified.<br/>[2] The condition number is large, 1.33e+03. This might indicate that there are<br/>strong multicollinearity or other numerical problems."
      ],
      "text/plain": [
       "<class 'statsmodels.iolib.summary.Summary'>\n",
       "\"\"\"\n",
       "                            OLS Regression Results                            \n",
       "==============================================================================\n",
       "Dep. Variable:                Galumna   R-squared:                       0.247\n",
       "Model:                            OLS   Adj. R-squared:                  0.236\n",
       "Method:                 Least Squares   F-statistic:                     22.31\n",
       "Date:                Sun, 08 Nov 2020   Prob (F-statistic):           1.21e-05\n",
       "Time:                        13:05:03   Log-Likelihood:                -127.32\n",
       "No. Observations:                  70   AIC:                             258.6\n",
       "Df Residuals:                      68   BIC:                             263.1\n",
       "Df Model:                           1                                         \n",
       "Covariance Type:            nonrobust                                         \n",
       "==============================================================================\n",
       "                 coef    std err          t      P>|t|      [0.025      0.975]\n",
       "------------------------------------------------------------------------------\n",
       "Intercept      3.4393      0.556      6.188      0.000       2.330       4.548\n",
       "WatrCont      -0.0060      0.001     -4.723      0.000      -0.009      -0.003\n",
       "==============================================================================\n",
       "Omnibus:                       48.057   Durbin-Watson:                   1.443\n",
       "Prob(Omnibus):                  0.000   Jarque-Bera (JB):              156.946\n",
       "Skew:                           2.184   Prob(JB):                     8.31e-35\n",
       "Kurtosis:                       8.894   Cond. No.                     1.33e+03\n",
       "==============================================================================\n",
       "\n",
       "Warnings:\n",
       "[1] Standard Errors assume that the covariance matrix of the errors is correctly specified.\n",
       "[2] The condition number is large, 1.33e+03. This might indicate that there are\n",
       "strong multicollinearity or other numerical problems.\n",
       "\"\"\""
      ]
     },
     "execution_count": 10,
     "metadata": {},
     "output_type": "execute_result"
    }
   ],
   "source": [
    "lm_abund=smf.ols('Galumna ~ WatrCont', data = mites).fit()\n",
    "lm_abund.summary()"
   ]
  },
  {
   "cell_type": "markdown",
   "metadata": {
    "cell_style": "split"
   },
   "source": [
    "modèle linéaire simple\n",
    "\n",
    "$y = \\beta_0 + \\beta_1x_i + \\varepsilon$\n",
    "\n",
    "\\\n",
    "$y_i$ =\n",
    "valeur prédite d'une variable de réponse\n",
    "\n",
    "\\\\\n",
    "\n",
    "$\\beta_0$ = intercèpte \n",
    "\n",
    "\\\\\n",
    "\n",
    "$\\beta_1$ = pente\n",
    "\n",
    "\\\\\n",
    "\n",
    "$x_i$ = variables explicative \n",
    "\n",
    "\\\\\n",
    "\n",
    "$\\varepsilon_i$= modèle risiduel d'une distribution normale \n"
   ]
  },
  {
   "cell_type": "code",
   "execution_count": null,
   "metadata": {},
   "outputs": [],
   "source": []
  },
  {
   "cell_type": "code",
   "execution_count": null,
   "metadata": {},
   "outputs": [],
   "source": []
  },
  {
   "cell_type": "code",
   "execution_count": 11,
   "metadata": {
    "cell_style": "split",
    "scrolled": true
   },
   "outputs": [
    {
     "data": {
      "text/html": [
       "<table class=\"simpletable\">\n",
       "<caption>OLS Regression Results</caption>\n",
       "<tr>\n",
       "  <th>Dep. Variable:</th>           <td>pa</td>        <th>  R-squared:         </th> <td>   0.357</td>\n",
       "</tr>\n",
       "<tr>\n",
       "  <th>Model:</th>                   <td>OLS</td>       <th>  Adj. R-squared:    </th> <td>   0.348</td>\n",
       "</tr>\n",
       "<tr>\n",
       "  <th>Method:</th>             <td>Least Squares</td>  <th>  F-statistic:       </th> <td>   37.80</td>\n",
       "</tr>\n",
       "<tr>\n",
       "  <th>Date:</th>             <td>Sun, 08 Nov 2020</td> <th>  Prob (F-statistic):</th> <td>4.68e-08</td>\n",
       "</tr>\n",
       "<tr>\n",
       "  <th>Time:</th>                 <td>13:05:03</td>     <th>  Log-Likelihood:    </th> <td> -32.354</td>\n",
       "</tr>\n",
       "<tr>\n",
       "  <th>No. Observations:</th>      <td>    70</td>      <th>  AIC:               </th> <td>   68.71</td>\n",
       "</tr>\n",
       "<tr>\n",
       "  <th>Df Residuals:</th>          <td>    68</td>      <th>  BIC:               </th> <td>   73.20</td>\n",
       "</tr>\n",
       "<tr>\n",
       "  <th>Df Model:</th>              <td>     1</td>      <th>                     </th>     <td> </td>   \n",
       "</tr>\n",
       "<tr>\n",
       "  <th>Covariance Type:</th>      <td>nonrobust</td>    <th>                     </th>     <td> </td>   \n",
       "</tr>\n",
       "</table>\n",
       "<table class=\"simpletable\">\n",
       "<tr>\n",
       "      <td></td>         <th>coef</th>     <th>std err</th>      <th>t</th>      <th>P>|t|</th>  <th>[0.025</th>    <th>0.975]</th>  \n",
       "</tr>\n",
       "<tr>\n",
       "  <th>Intercept</th> <td>    1.1892</td> <td>    0.143</td> <td>    8.309</td> <td> 0.000</td> <td>    0.904</td> <td>    1.475</td>\n",
       "</tr>\n",
       "<tr>\n",
       "  <th>WatrCont</th>  <td>   -0.0020</td> <td>    0.000</td> <td>   -6.148</td> <td> 0.000</td> <td>   -0.003</td> <td>   -0.001</td>\n",
       "</tr>\n",
       "</table>\n",
       "<table class=\"simpletable\">\n",
       "<tr>\n",
       "  <th>Omnibus:</th>       <td>13.423</td> <th>  Durbin-Watson:     </th> <td>   1.312</td>\n",
       "</tr>\n",
       "<tr>\n",
       "  <th>Prob(Omnibus):</th> <td> 0.001</td> <th>  Jarque-Bera (JB):  </th> <td>   4.093</td>\n",
       "</tr>\n",
       "<tr>\n",
       "  <th>Skew:</th>          <td> 0.225</td> <th>  Prob(JB):          </th> <td>   0.129</td>\n",
       "</tr>\n",
       "<tr>\n",
       "  <th>Kurtosis:</th>      <td> 1.904</td> <th>  Cond. No.          </th> <td>1.33e+03</td>\n",
       "</tr>\n",
       "</table><br/><br/>Warnings:<br/>[1] Standard Errors assume that the covariance matrix of the errors is correctly specified.<br/>[2] The condition number is large, 1.33e+03. This might indicate that there are<br/>strong multicollinearity or other numerical problems."
      ],
      "text/plain": [
       "<class 'statsmodels.iolib.summary.Summary'>\n",
       "\"\"\"\n",
       "                            OLS Regression Results                            \n",
       "==============================================================================\n",
       "Dep. Variable:                     pa   R-squared:                       0.357\n",
       "Model:                            OLS   Adj. R-squared:                  0.348\n",
       "Method:                 Least Squares   F-statistic:                     37.80\n",
       "Date:                Sun, 08 Nov 2020   Prob (F-statistic):           4.68e-08\n",
       "Time:                        13:05:03   Log-Likelihood:                -32.354\n",
       "No. Observations:                  70   AIC:                             68.71\n",
       "Df Residuals:                      68   BIC:                             73.20\n",
       "Df Model:                           1                                         \n",
       "Covariance Type:            nonrobust                                         \n",
       "==============================================================================\n",
       "                 coef    std err          t      P>|t|      [0.025      0.975]\n",
       "------------------------------------------------------------------------------\n",
       "Intercept      1.1892      0.143      8.309      0.000       0.904       1.475\n",
       "WatrCont      -0.0020      0.000     -6.148      0.000      -0.003      -0.001\n",
       "==============================================================================\n",
       "Omnibus:                       13.423   Durbin-Watson:                   1.312\n",
       "Prob(Omnibus):                  0.001   Jarque-Bera (JB):                4.093\n",
       "Skew:                           0.225   Prob(JB):                        0.129\n",
       "Kurtosis:                       1.904   Cond. No.                     1.33e+03\n",
       "==============================================================================\n",
       "\n",
       "Warnings:\n",
       "[1] Standard Errors assume that the covariance matrix of the errors is correctly specified.\n",
       "[2] The condition number is large, 1.33e+03. This might indicate that there are\n",
       "strong multicollinearity or other numerical problems.\n",
       "\"\"\""
      ]
     },
     "execution_count": 11,
     "metadata": {},
     "output_type": "execute_result"
    }
   ],
   "source": [
    "lm_pa=smf.ols('pa ~ WatrCont', data = mites).fit()\n",
    "lm_pa.summary()"
   ]
  },
  {
   "cell_type": "code",
   "execution_count": 12,
   "metadata": {
    "cell_style": "split",
    "scrolled": true
   },
   "outputs": [
    {
     "data": {
      "text/html": [
       "<table class=\"simpletable\">\n",
       "<caption>OLS Regression Results</caption>\n",
       "<tr>\n",
       "  <th>Dep. Variable:</th>          <td>prop</td>       <th>  R-squared:         </th> <td>   0.240</td>\n",
       "</tr>\n",
       "<tr>\n",
       "  <th>Model:</th>                   <td>OLS</td>       <th>  Adj. R-squared:    </th> <td>   0.229</td>\n",
       "</tr>\n",
       "<tr>\n",
       "  <th>Method:</th>             <td>Least Squares</td>  <th>  F-statistic:       </th> <td>   21.49</td>\n",
       "</tr>\n",
       "<tr>\n",
       "  <th>Date:</th>             <td>Sun, 08 Nov 2020</td> <th>  Prob (F-statistic):</th> <td>1.67e-05</td>\n",
       "</tr>\n",
       "<tr>\n",
       "  <th>Time:</th>                 <td>13:05:03</td>     <th>  Log-Likelihood:    </th> <td>  231.65</td>\n",
       "</tr>\n",
       "<tr>\n",
       "  <th>No. Observations:</th>      <td>    70</td>      <th>  AIC:               </th> <td>  -459.3</td>\n",
       "</tr>\n",
       "<tr>\n",
       "  <th>Df Residuals:</th>          <td>    68</td>      <th>  BIC:               </th> <td>  -454.8</td>\n",
       "</tr>\n",
       "<tr>\n",
       "  <th>Df Model:</th>              <td>     1</td>      <th>                     </th>     <td> </td>   \n",
       "</tr>\n",
       "<tr>\n",
       "  <th>Covariance Type:</th>      <td>nonrobust</td>    <th>                     </th>     <td> </td>   \n",
       "</tr>\n",
       "</table>\n",
       "<table class=\"simpletable\">\n",
       "<tr>\n",
       "      <td></td>         <th>coef</th>     <th>std err</th>      <th>t</th>      <th>P>|t|</th>  <th>[0.025</th>    <th>0.975]</th>  \n",
       "</tr>\n",
       "<tr>\n",
       "  <th>Intercept</th> <td>    0.0202</td> <td>    0.003</td> <td>    6.133</td> <td> 0.000</td> <td>    0.014</td> <td>    0.027</td>\n",
       "</tr>\n",
       "<tr>\n",
       "  <th>WatrCont</th>  <td>-3.516e-05</td> <td> 7.59e-06</td> <td>   -4.635</td> <td> 0.000</td> <td>-5.03e-05</td> <td>   -2e-05</td>\n",
       "</tr>\n",
       "</table>\n",
       "<table class=\"simpletable\">\n",
       "<tr>\n",
       "  <th>Omnibus:</th>       <td>66.332</td> <th>  Durbin-Watson:     </th> <td>   1.356</td> \n",
       "</tr>\n",
       "<tr>\n",
       "  <th>Prob(Omnibus):</th> <td> 0.000</td> <th>  Jarque-Bera (JB):  </th> <td> 488.334</td> \n",
       "</tr>\n",
       "<tr>\n",
       "  <th>Skew:</th>          <td> 2.732</td> <th>  Prob(JB):          </th> <td>9.11e-107</td>\n",
       "</tr>\n",
       "<tr>\n",
       "  <th>Kurtosis:</th>      <td>14.729</td> <th>  Cond. No.          </th> <td>1.33e+03</td> \n",
       "</tr>\n",
       "</table><br/><br/>Warnings:<br/>[1] Standard Errors assume that the covariance matrix of the errors is correctly specified.<br/>[2] The condition number is large, 1.33e+03. This might indicate that there are<br/>strong multicollinearity or other numerical problems."
      ],
      "text/plain": [
       "<class 'statsmodels.iolib.summary.Summary'>\n",
       "\"\"\"\n",
       "                            OLS Regression Results                            \n",
       "==============================================================================\n",
       "Dep. Variable:                   prop   R-squared:                       0.240\n",
       "Model:                            OLS   Adj. R-squared:                  0.229\n",
       "Method:                 Least Squares   F-statistic:                     21.49\n",
       "Date:                Sun, 08 Nov 2020   Prob (F-statistic):           1.67e-05\n",
       "Time:                        13:05:03   Log-Likelihood:                 231.65\n",
       "No. Observations:                  70   AIC:                            -459.3\n",
       "Df Residuals:                      68   BIC:                            -454.8\n",
       "Df Model:                           1                                         \n",
       "Covariance Type:            nonrobust                                         \n",
       "==============================================================================\n",
       "                 coef    std err          t      P>|t|      [0.025      0.975]\n",
       "------------------------------------------------------------------------------\n",
       "Intercept      0.0202      0.003      6.133      0.000       0.014       0.027\n",
       "WatrCont   -3.516e-05   7.59e-06     -4.635      0.000   -5.03e-05      -2e-05\n",
       "==============================================================================\n",
       "Omnibus:                       66.332   Durbin-Watson:                   1.356\n",
       "Prob(Omnibus):                  0.000   Jarque-Bera (JB):              488.334\n",
       "Skew:                           2.732   Prob(JB):                    9.11e-107\n",
       "Kurtosis:                      14.729   Cond. No.                     1.33e+03\n",
       "==============================================================================\n",
       "\n",
       "Warnings:\n",
       "[1] Standard Errors assume that the covariance matrix of the errors is correctly specified.\n",
       "[2] The condition number is large, 1.33e+03. This might indicate that there are\n",
       "strong multicollinearity or other numerical problems.\n",
       "\"\"\""
      ]
     },
     "execution_count": 12,
     "metadata": {},
     "output_type": "execute_result"
    }
   ],
   "source": [
    "lm_prop=smf.ols('prop ~ WatrCont', data = mites).fit()\n",
    "lm_prop.summary()"
   ]
  },
  {
   "cell_type": "markdown",
   "metadata": {},
   "source": [
    "Interpretation des résultats des regressions: Mème si on a obtenue des résultats de regressions singnificatives on peut pas s'arreter ici, on doit donc verifier l'hypothèse de la normalité des risidus. \n"
   ]
  },
  {
   "cell_type": "markdown",
   "metadata": {},
   "source": [
    "On s'interesse à la relation entre Galumna et WatrCont.Pour voir mieux la qualité de la régression on utulise souvent ces graphes."
   ]
  },
  {
   "cell_type": "code",
   "execution_count": 47,
   "metadata": {},
   "outputs": [
    {
     "data": {
      "text/plain": [
       "3.439348671737164"
      ]
     },
     "execution_count": 47,
     "metadata": {},
     "output_type": "execute_result"
    }
   ],
   "source": [
    "lm_abund.params[0]"
   ]
  },
  {
   "cell_type": "code",
   "execution_count": 14,
   "metadata": {
    "cell_style": "split"
   },
   "outputs": [
    {
     "data": {
      "image/png": "[encoded data removed]",
      "text/plain": [
       "<Figure size 432x288 with 1 Axes>"
      ]
     },
     "metadata": {
      "needs_background": "light"
     },
     "output_type": "display_data"
    }
   ],
   "source": [
    "x = np.array(range(100,800))\n",
    "y = lm_abund.params[1]*x+lm_abund.params[0]\n",
    "plt.plot(x,y)\n",
    "plt.ylabel('Galumna')\n",
    "plt.xlabel('WatrCont')\n",
    "plt.plot(mites.WatrCont,mites.Galumna,'o')\n",
    "plt.show()"
   ]
  },
  {
   "cell_type": "code",
   "execution_count": 15,
   "metadata": {
    "cell_style": "split",
    "scrolled": true
   },
   "outputs": [
    {
     "data": {
      "image/png": "[encoded data removed]",
      "text/plain": [
       "<Figure size 432x288 with 2 Axes>"
      ]
     },
     "metadata": {
      "needs_background": "light"
     },
     "output_type": "display_data"
    }
   ],
   "source": [
    "fig = sm.graphics.plot_partregress_grid(lm_abund)\n",
    "fig.tight_layout(pad=1.0)\n"
   ]
  },
  {
   "cell_type": "code",
   "execution_count": 16,
   "metadata": {},
   "outputs": [
    {
     "data": {
      "image/png": "[encoded data removed]",
      "text/plain": [
       "<Figure size 432x288 with 2 Axes>"
      ]
     },
     "metadata": {
      "needs_background": "light"
     },
     "output_type": "display_data"
    }
   ],
   "source": [
    "plt.subplot(121)\n",
    "x1=np.array(lm_abund.fittedvalues)\n",
    "y1=np.array(lm_abund.resid)\n",
    "plt.scatter(x1, y1,s = 150, c = 'red', marker = '.')\n",
    "plt.title('Rsisiduals vs Fitted')\n",
    "plt.ylabel(' Residuals')\n",
    "plt.xlabel('Fitted values')\n",
    "plt.subplot(122)\n",
    "residuals = np.array(lm_abund.resid)\n",
    "stats.probplot(residuals, dist=\"norm\", plot=plt)\n",
    "plt.title(\"Normal Q-Q Plot\")\n",
    "\n",
    "plt.show()"
   ]
  },
  {
   "cell_type": "markdown",
   "metadata": {},
   "source": [
    "Interpretation des graphes: il est claire que l'hypothèse de la normalité des risidus est moins probable, comme le montres les deux histogrammes suivants."
   ]
  },
  {
   "cell_type": "markdown",
   "metadata": {},
   "source": [
    "sigma "
   ]
  },
  {
   "cell_type": "code",
   "execution_count": 56,
   "metadata": {},
   "outputs": [
    {
     "name": "stdout",
     "output_type": "stream",
     "text": [
      "sigma= 1.51353094952848\n"
     ]
    }
   ],
   "source": [
    "sigma_err = np.sqrt(lm_abund.scale)\n",
    "sigma_err\n",
    "print('sigma= 1.51353094952848')"
   ]
  },
  {
   "cell_type": "code",
   "execution_count": 18,
   "metadata": {
    "cell_style": "split"
   },
   "outputs": [
    {
     "data": {
      "image/png": "[encoded data removed]",
      "text/plain": [
       "<Figure size 432x288 with 1 Axes>"
      ]
     },
     "metadata": {
      "needs_background": "light"
     },
     "output_type": "display_data"
    }
   ],
   "source": [
    "plt.hist(mites.Galumna)\n",
    "plt.title('histogramme of mites.Galumna')\n",
    "plt.ylabel(' Frequency')\n",
    "plt.xlabel('histogramme of mites.Galumna')\n",
    "plt.show()"
   ]
  },
  {
   "cell_type": "code",
   "execution_count": 19,
   "metadata": {
    "cell_style": "split"
   },
   "outputs": [
    {
     "data": {
      "image/png": "[encoded data removed]",
      "text/plain": [
       "<Figure size 432x288 with 1 Axes>"
      ]
     },
     "metadata": {
      "needs_background": "light"
     },
     "output_type": "display_data"
    }
   ],
   "source": [
    "plt.hist(mites.pa)\n",
    "plt.title('histogramme of mites.pa')\n",
    "plt.ylabel(' Frequency')\n",
    "plt.xlabel('histogramme of mites.pa')\n",
    "plt.show()"
   ]
  },
  {
   "cell_type": "markdown",
   "metadata": {},
   "source": [
    "$y_i \\sim N(\\mu = \\beta_0 + \\beta_1 X_i, \\sigma^2)$ donc cette hypothese n'est pas vraie.\n",
    "Nous avons besoin d'une distribution avec une plage qui n'inclut que deux résultats possibles: zéro ou un. La distribution «Bernoulli» est une telle distribution."
   ]
  },
  {
   "cell_type": "markdown",
   "metadata": {},
   "source": [
    "## 3. Modèle linéaire généralisé"
   ]
  },
  {
   "cell_type": "markdown",
   "metadata": {},
   "source": [
    "Pour contourner le probleme de la normalité des $y_i$  on peut supposer que les $ε_i$  suivent une loie de Poisson. <br />\n",
    "$y_i \\sim Poisson(\\lambda = \\beta_0 + \\beta_1 x_i)$"
   ]
  },
  {
   "cell_type": "markdown",
   "metadata": {
    "cell_style": "split"
   },
   "source": [
    "Avantages:\n",
    "<ul>\n",
    "<li>\n",
    "Les valeurs prédites seront désormais des entiers au lieu de fractions</li>\n",
    "<li>Le modèle ne prédira jamais de valeurs négatives (Poisson est strictement positif)</li>\n",
    "<li>\n",
    "$\\lambda$\n",
    " varie avec\n",
    "$x$\n",
    " (teneur en eau), ce qui signifie que la variance résiduelle variera également avec\n",
    "$x$\n",
    ". Cela signifie également que nous avons assoupli l'hypothèse d'homogénéité de la variance</li>\n",
    "</ul>\n"
   ]
  },
  {
   "cell_type": "code",
   "execution_count": 91,
   "metadata": {
    "cell_style": "split"
   },
   "outputs": [
    {
     "data": {
      "text/html": [
       "<table class=\"simpletable\">\n",
       "<caption>Generalized Linear Model Regression Results</caption>\n",
       "<tr>\n",
       "  <th>Dep. Variable:</th>          <td>pa</td>        <th>  No. Observations:  </th>  <td>    70</td> \n",
       "</tr>\n",
       "<tr>\n",
       "  <th>Model:</th>                  <td>GLM</td>       <th>  Df Residuals:      </th>  <td>    67</td> \n",
       "</tr>\n",
       "<tr>\n",
       "  <th>Model Family:</th>         <td>Poisson</td>     <th>  Df Model:          </th>  <td>     2</td> \n",
       "</tr>\n",
       "<tr>\n",
       "  <th>Link Function:</th>          <td>log</td>       <th>  Scale:             </th> <td>  1.0000</td>\n",
       "</tr>\n",
       "<tr>\n",
       "  <th>Method:</th>                <td>IRLS</td>       <th>  Log-Likelihood:    </th> <td> -39.873</td>\n",
       "</tr>\n",
       "<tr>\n",
       "  <th>Date:</th>            <td>Sun, 08 Nov 2020</td> <th>  Deviance:          </th> <td>  29.747</td>\n",
       "</tr>\n",
       "<tr>\n",
       "  <th>Time:</th>                <td>20:11:28</td>     <th>  Pearson chi2:      </th>  <td>  31.3</td> \n",
       "</tr>\n",
       "<tr>\n",
       "  <th>No. Iterations:</th>          <td>5</td>        <th>                     </th>     <td> </td>   \n",
       "</tr>\n",
       "<tr>\n",
       "  <th>Covariance Type:</th>     <td>nonrobust</td>    <th>                     </th>     <td> </td>   \n",
       "</tr>\n",
       "</table>\n",
       "<table class=\"simpletable\">\n",
       "<tr>\n",
       "         <td></td>           <th>coef</th>     <th>std err</th>      <th>z</th>      <th>P>|z|</th>  <th>[0.025</th>    <th>0.975]</th>  \n",
       "</tr>\n",
       "<tr>\n",
       "  <th>const</th>          <td>    0.3596</td> <td>    0.766</td> <td>    0.469</td> <td> 0.639</td> <td>   -1.142</td> <td>    1.861</td>\n",
       "</tr>\n",
       "<tr>\n",
       "  <th>mites.WatrCont</th> <td>   -0.0054</td> <td>    0.002</td> <td>   -2.937</td> <td> 0.003</td> <td>   -0.009</td> <td>   -0.002</td>\n",
       "</tr>\n",
       "<tr>\n",
       "  <th>Topo</th>           <td>    0.8957</td> <td>    0.476</td> <td>    1.880</td> <td> 0.060</td> <td>   -0.038</td> <td>    1.830</td>\n",
       "</tr>\n",
       "</table>"
      ],
      "text/plain": [
       "<class 'statsmodels.iolib.summary.Summary'>\n",
       "\"\"\"\n",
       "                 Generalized Linear Model Regression Results                  \n",
       "==============================================================================\n",
       "Dep. Variable:                     pa   No. Observations:                   70\n",
       "Model:                            GLM   Df Residuals:                       67\n",
       "Model Family:                 Poisson   Df Model:                            2\n",
       "Link Function:                    log   Scale:                          1.0000\n",
       "Method:                          IRLS   Log-Likelihood:                -39.873\n",
       "Date:                Sun, 08 Nov 2020   Deviance:                       29.747\n",
       "Time:                        20:11:28   Pearson chi2:                     31.3\n",
       "No. Iterations:                     5                                         \n",
       "Covariance Type:            nonrobust                                         \n",
       "==================================================================================\n",
       "                     coef    std err          z      P>|z|      [0.025      0.975]\n",
       "----------------------------------------------------------------------------------\n",
       "const              0.3596      0.766      0.469      0.639      -1.142       1.861\n",
       "mites.WatrCont    -0.0054      0.002     -2.937      0.003      -0.009      -0.002\n",
       "Topo               0.8957      0.476      1.880      0.060      -0.038       1.830\n",
       "==================================================================================\n",
       "\"\"\""
      ]
     },
     "execution_count": 91,
     "metadata": {},
     "output_type": "execute_result"
    }
   ],
   "source": [
    "Topo=mites.Topo\n",
    "Topo.loc[Topo=='Blanket']=0\n",
    "Topo.loc[Topo=='Hummock']=1\n",
    "Topo\n",
    "d = {'mites.WatrCont': mites.WatrCont, 'Topo': Topo}\n",
    "df = pd.DataFrame(data=d)\n",
    "df\n",
    "poisson_reg =sm.GLM(mites.pa,sm.add_constant(df.astype(float)), data = mites, family =sm.families.Poisson()).fit()\n",
    "poisson_reg.summary()"
   ]
  },
  {
   "cell_type": "markdown",
   "metadata": {},
   "source": [
    "### variables binaires"
   ]
  },
  {
   "cell_type": "markdown",
   "metadata": {
    "cell_style": "split"
   },
   "source": [
    "Une variable de réponse commune dans les ensembles de données écologiques est la variable binaire: nous observons un phénomène\n",
    "$x$ ou son «absence».\n",
    "\n",
    "<ul>\n",
    "<li>\n",
    "présence ou absence d'une éspece</li>\n",
    "<li>présence ou absence d'une maladie</li>\n",
    "<li>\n",
    "succés ou échec d'une experimentation</li>\n",
    "</ul>"
   ]
  },
  {
   "cell_type": "code",
   "execution_count": 93,
   "metadata": {
    "cell_style": "split"
   },
   "outputs": [
    {
     "data": {
      "text/html": [
       "<table class=\"simpletable\">\n",
       "<caption>Generalized Linear Model Regression Results</caption>\n",
       "<tr>\n",
       "  <th>Dep. Variable:</th>          <td>pa</td>        <th>  No. Observations:  </th>  <td>    70</td> \n",
       "</tr>\n",
       "<tr>\n",
       "  <th>Model:</th>                  <td>GLM</td>       <th>  Df Residuals:      </th>  <td>    67</td> \n",
       "</tr>\n",
       "<tr>\n",
       "  <th>Model Family:</th>        <td>Binomial</td>     <th>  Df Model:          </th>  <td>     2</td> \n",
       "</tr>\n",
       "<tr>\n",
       "  <th>Link Function:</th>         <td>logit</td>      <th>  Scale:             </th> <td>  1.0000</td>\n",
       "</tr>\n",
       "<tr>\n",
       "  <th>Method:</th>                <td>IRLS</td>       <th>  Log-Likelihood:    </th> <td> -24.381</td>\n",
       "</tr>\n",
       "<tr>\n",
       "  <th>Date:</th>            <td>Sun, 08 Nov 2020</td> <th>  Deviance:          </th> <td>  48.762</td>\n",
       "</tr>\n",
       "<tr>\n",
       "  <th>Time:</th>                <td>20:17:27</td>     <th>  Pearson chi2:      </th>  <td>  48.9</td> \n",
       "</tr>\n",
       "<tr>\n",
       "  <th>No. Iterations:</th>          <td>6</td>        <th>                     </th>     <td> </td>   \n",
       "</tr>\n",
       "<tr>\n",
       "  <th>Covariance Type:</th>     <td>nonrobust</td>    <th>                     </th>     <td> </td>   \n",
       "</tr>\n",
       "</table>\n",
       "<table class=\"simpletable\">\n",
       "<tr>\n",
       "         <td></td>           <th>coef</th>     <th>std err</th>      <th>z</th>      <th>P>|z|</th>  <th>[0.025</th>    <th>0.975]</th>  \n",
       "</tr>\n",
       "<tr>\n",
       "  <th>const</th>          <td>    4.4644</td> <td>    1.671</td> <td>    2.672</td> <td> 0.008</td> <td>    1.190</td> <td>    7.739</td>\n",
       "</tr>\n",
       "<tr>\n",
       "  <th>mites.WatrCont</th> <td>   -0.0158</td> <td>    0.005</td> <td>   -3.487</td> <td> 0.000</td> <td>   -0.025</td> <td>   -0.007</td>\n",
       "</tr>\n",
       "<tr>\n",
       "  <th>Topo</th>           <td>    2.0908</td> <td>    0.735</td> <td>    2.843</td> <td> 0.004</td> <td>    0.650</td> <td>    3.532</td>\n",
       "</tr>\n",
       "</table>"
      ],
      "text/plain": [
       "<class 'statsmodels.iolib.summary.Summary'>\n",
       "\"\"\"\n",
       "                 Generalized Linear Model Regression Results                  \n",
       "==============================================================================\n",
       "Dep. Variable:                     pa   No. Observations:                   70\n",
       "Model:                            GLM   Df Residuals:                       67\n",
       "Model Family:                Binomial   Df Model:                            2\n",
       "Link Function:                  logit   Scale:                          1.0000\n",
       "Method:                          IRLS   Log-Likelihood:                -24.381\n",
       "Date:                Sun, 08 Nov 2020   Deviance:                       48.762\n",
       "Time:                        20:17:27   Pearson chi2:                     48.9\n",
       "No. Iterations:                     6                                         \n",
       "Covariance Type:            nonrobust                                         \n",
       "==================================================================================\n",
       "                     coef    std err          z      P>|z|      [0.025      0.975]\n",
       "----------------------------------------------------------------------------------\n",
       "const              4.4644      1.671      2.672      0.008       1.190       7.739\n",
       "mites.WatrCont    -0.0158      0.005     -3.487      0.000      -0.025      -0.007\n",
       "Topo               2.0908      0.735      2.843      0.004       0.650       3.532\n",
       "==================================================================================\n",
       "\"\"\""
      ]
     },
     "execution_count": 93,
     "metadata": {},
     "output_type": "execute_result"
    }
   ],
   "source": [
    "Topo=mites.Topo\n",
    "Topo.loc[Topo=='Blanket']=0\n",
    "Topo.loc[Topo=='Hummock']=1\n",
    "Topo\n",
    "d = {'mites.WatrCont': mites.WatrCont, 'Topo': Topo}\n",
    "df = pd.DataFrame(data=d)\n",
    "df\n",
    "#sm.add_constant(X) to add the intercept\n",
    "model_glm=sm.GLM(mites.pa,sm.add_constant(df).astype(float), data = mites, family =sm.families.Binomial()).fit()\n",
    "model_glm.summary()"
   ]
  },
  {
   "cell_type": "code",
   "execution_count": null,
   "metadata": {},
   "outputs": [],
   "source": []
  },
  {
   "cell_type": "markdown",
   "metadata": {},
   "source": [
    "### regression logit "
   ]
  },
  {
   "cell_type": "markdown",
   "metadata": {},
   "source": [
    "\n",
    "$g(p) = log\\frac{p}{1-p}$"
   ]
  },
  {
   "cell_type": "code",
   "execution_count": 23,
   "metadata": {
    "cell_style": "split"
   },
   "outputs": [
    {
     "name": "stderr",
     "output_type": "stream",
     "text": [
      "<ipython-input-23-525fe09a8438>:2: DeprecationWarning: Calling Family(..) with a link class as argument is deprecated.\n",
      "Use an instance of a link class instead.\n",
      "  logit_reg =sm.GLM(mites.pa,sm.add_constant(df.astype(float)), data = mites, family =sm.families.Binomial(link=sm.families.links.logit)).fit()\n"
     ]
    },
    {
     "data": {
      "text/html": [
       "<table class=\"simpletable\">\n",
       "<caption>Generalized Linear Model Regression Results</caption>\n",
       "<tr>\n",
       "  <th>Dep. Variable:</th>          <td>pa</td>        <th>  No. Observations:  </th>  <td>    70</td> \n",
       "</tr>\n",
       "<tr>\n",
       "  <th>Model:</th>                  <td>GLM</td>       <th>  Df Residuals:      </th>  <td>    67</td> \n",
       "</tr>\n",
       "<tr>\n",
       "  <th>Model Family:</th>        <td>Binomial</td>     <th>  Df Model:          </th>  <td>     2</td> \n",
       "</tr>\n",
       "<tr>\n",
       "  <th>Link Function:</th>         <td>logit</td>      <th>  Scale:             </th> <td>  1.0000</td>\n",
       "</tr>\n",
       "<tr>\n",
       "  <th>Method:</th>                <td>IRLS</td>       <th>  Log-Likelihood:    </th> <td> -24.381</td>\n",
       "</tr>\n",
       "<tr>\n",
       "  <th>Date:</th>            <td>Sun, 08 Nov 2020</td> <th>  Deviance:          </th> <td>  48.762</td>\n",
       "</tr>\n",
       "<tr>\n",
       "  <th>Time:</th>                <td>13:05:05</td>     <th>  Pearson chi2:      </th>  <td>  48.9</td> \n",
       "</tr>\n",
       "<tr>\n",
       "  <th>No. Iterations:</th>          <td>6</td>        <th>                     </th>     <td> </td>   \n",
       "</tr>\n",
       "<tr>\n",
       "  <th>Covariance Type:</th>     <td>nonrobust</td>    <th>                     </th>     <td> </td>   \n",
       "</tr>\n",
       "</table>\n",
       "<table class=\"simpletable\">\n",
       "<tr>\n",
       "         <td></td>           <th>coef</th>     <th>std err</th>      <th>z</th>      <th>P>|z|</th>  <th>[0.025</th>    <th>0.975]</th>  \n",
       "</tr>\n",
       "<tr>\n",
       "  <th>const</th>          <td>    4.4644</td> <td>    1.671</td> <td>    2.672</td> <td> 0.008</td> <td>    1.190</td> <td>    7.739</td>\n",
       "</tr>\n",
       "<tr>\n",
       "  <th>mites.WatrCont</th> <td>   -0.0158</td> <td>    0.005</td> <td>   -3.487</td> <td> 0.000</td> <td>   -0.025</td> <td>   -0.007</td>\n",
       "</tr>\n",
       "<tr>\n",
       "  <th>Topo</th>           <td>    2.0908</td> <td>    0.735</td> <td>    2.843</td> <td> 0.004</td> <td>    0.650</td> <td>    3.532</td>\n",
       "</tr>\n",
       "</table>"
      ],
      "text/plain": [
       "<class 'statsmodels.iolib.summary.Summary'>\n",
       "\"\"\"\n",
       "                 Generalized Linear Model Regression Results                  \n",
       "==============================================================================\n",
       "Dep. Variable:                     pa   No. Observations:                   70\n",
       "Model:                            GLM   Df Residuals:                       67\n",
       "Model Family:                Binomial   Df Model:                            2\n",
       "Link Function:                  logit   Scale:                          1.0000\n",
       "Method:                          IRLS   Log-Likelihood:                -24.381\n",
       "Date:                Sun, 08 Nov 2020   Deviance:                       48.762\n",
       "Time:                        13:05:05   Pearson chi2:                     48.9\n",
       "No. Iterations:                     6                                         \n",
       "Covariance Type:            nonrobust                                         \n",
       "==================================================================================\n",
       "                     coef    std err          z      P>|z|      [0.025      0.975]\n",
       "----------------------------------------------------------------------------------\n",
       "const              4.4644      1.671      2.672      0.008       1.190       7.739\n",
       "mites.WatrCont    -0.0158      0.005     -3.487      0.000      -0.025      -0.007\n",
       "Topo               2.0908      0.735      2.843      0.004       0.650       3.532\n",
       "==================================================================================\n",
       "\"\"\""
      ]
     },
     "execution_count": 23,
     "metadata": {},
     "output_type": "execute_result"
    }
   ],
   "source": [
    "#sm.add_constant(df) to add the intercept\n",
    "logit_reg =sm.GLM(mites.pa,sm.add_constant(df.astype(float)), data = mites, family =sm.families.Binomial(link=sm.families.links.logit)).fit()\n",
    "logit_reg .summary()"
   ]
  },
  {
   "cell_type": "code",
   "execution_count": 24,
   "metadata": {
    "cell_style": "split",
    "scrolled": true
   },
   "outputs": [
    {
     "name": "stdout",
     "output_type": "stream",
     "text": [
      "exp(log(μ / (1 - μ)) = u / (1 - μ)\n",
      "[0.9843118083493371, 8.091034000774105]\n",
      "intervale de confiance\n",
      "                    2.5%        97.5%\n",
      "const           2.054154  3673.645516\n",
      "mites.WatrCont  0.974357     0.994368\n",
      "Topo            1.556664    42.054571\n"
     ]
    }
   ],
   "source": [
    "logit_reg.params\n",
    "exp_logit_reg_coefficients=[exp(logit_reg.params[1]),exp(logit_reg.params[2])]#/ (1 - logit_reg.params[0]),logit_reg.params[1]/ (1 - logit_reg.params[1])]\n",
    "print('exp(log(μ / (1 - μ)) = u / (1 - μ)')\n",
    "print(exp_logit_reg_coefficients)\n",
    "con_int_logit=pd.DataFrame(logit_reg.conf_int(0.25))\n",
    "print('intervale de confiance')\n",
    "#print(con_int_logit)\n",
    "params = logit_reg.params\n",
    "conf = logit_reg.conf_int(0.025)\n",
    "conf.columns = ['2.5%', '97.5%']\n",
    "print(np.exp(conf))\n",
    "#OR=np.exp(logit_reg.params)\n",
    "#print(OR)\n",
    "#params = logit_reg.params\n",
    "#conf = logit_reg.conf_int(0.025)\n",
    "#conf.columns = ['2.5%', '97.5%']\n",
    "#print(np.exp(conf))"
   ]
  },
  {
   "cell_type": "code",
   "execution_count": 25,
   "metadata": {},
   "outputs": [],
   "source": [
    "from plotnine import *\n",
    "from plotnine.data import mpg\n",
    "%matplotlib inline"
   ]
  },
  {
   "cell_type": "markdown",
   "metadata": {},
   "source": [
    "# GLMs with count data"
   ]
  },
  {
   "cell_type": "code",
   "execution_count": 26,
   "metadata": {},
   "outputs": [
    {
     "data": {
      "text/html": [
       "<div>\n",
       "<style scoped>\n",
       "    .dataframe tbody tr th:only-of-type {\n",
       "        vertical-align: middle;\n",
       "    }\n",
       "\n",
       "    .dataframe tbody tr th {\n",
       "        vertical-align: top;\n",
       "    }\n",
       "\n",
       "    .dataframe thead th {\n",
       "        text-align: right;\n",
       "    }\n",
       "</style>\n",
       "<table border=\"1\" class=\"dataframe\">\n",
       "  <thead>\n",
       "    <tr style=\"text-align: right;\">\n",
       "      <th></th>\n",
       "      <th>Unnamed: 0</th>\n",
       "      <th>UTM.EW</th>\n",
       "      <th>UTM.NS</th>\n",
       "      <th>Precipitation</th>\n",
       "      <th>Elevation</th>\n",
       "      <th>Age</th>\n",
       "      <th>Age.cat</th>\n",
       "      <th>Geology</th>\n",
       "      <th>Faramea_occidentalis</th>\n",
       "    </tr>\n",
       "  </thead>\n",
       "  <tbody>\n",
       "    <tr>\n",
       "      <th>0</th>\n",
       "      <td>B0</td>\n",
       "      <td>625754.0</td>\n",
       "      <td>1011569.0</td>\n",
       "      <td>2530.0</td>\n",
       "      <td>120</td>\n",
       "      <td>3</td>\n",
       "      <td>c3</td>\n",
       "      <td>Tb</td>\n",
       "      <td>14</td>\n",
       "    </tr>\n",
       "    <tr>\n",
       "      <th>1</th>\n",
       "      <td>B49</td>\n",
       "      <td>626654.0</td>\n",
       "      <td>1011969.0</td>\n",
       "      <td>2530.0</td>\n",
       "      <td>120</td>\n",
       "      <td>3</td>\n",
       "      <td>c3</td>\n",
       "      <td>Tb</td>\n",
       "      <td>7</td>\n",
       "    </tr>\n",
       "    <tr>\n",
       "      <th>2</th>\n",
       "      <td>p1</td>\n",
       "      <td>614856.9</td>\n",
       "      <td>1031786.4</td>\n",
       "      <td>2993.2</td>\n",
       "      <td>20</td>\n",
       "      <td>2</td>\n",
       "      <td>c2</td>\n",
       "      <td>Tc</td>\n",
       "      <td>0</td>\n",
       "    </tr>\n",
       "    <tr>\n",
       "      <th>3</th>\n",
       "      <td>p2</td>\n",
       "      <td>613985.4</td>\n",
       "      <td>1030725.4</td>\n",
       "      <td>3072.0</td>\n",
       "      <td>100</td>\n",
       "      <td>3</td>\n",
       "      <td>c3</td>\n",
       "      <td>Tc</td>\n",
       "      <td>0</td>\n",
       "    </tr>\n",
       "    <tr>\n",
       "      <th>4</th>\n",
       "      <td>p3</td>\n",
       "      <td>614674.3</td>\n",
       "      <td>1023801.5</td>\n",
       "      <td>3007.4</td>\n",
       "      <td>180</td>\n",
       "      <td>1</td>\n",
       "      <td>c1</td>\n",
       "      <td>Tc</td>\n",
       "      <td>2</td>\n",
       "    </tr>\n",
       "    <tr>\n",
       "      <th>5</th>\n",
       "      <td>p4</td>\n",
       "      <td>615018.6</td>\n",
       "      <td>1023547.9</td>\n",
       "      <td>2999.8</td>\n",
       "      <td>180</td>\n",
       "      <td>1</td>\n",
       "      <td>c1</td>\n",
       "      <td>Tc</td>\n",
       "      <td>1</td>\n",
       "    </tr>\n",
       "  </tbody>\n",
       "</table>\n",
       "</div>"
      ],
      "text/plain": [
       "  Unnamed: 0    UTM.EW     UTM.NS  Precipitation  Elevation  Age Age.cat  \\\n",
       "0         B0  625754.0  1011569.0         2530.0        120    3      c3   \n",
       "1        B49  626654.0  1011969.0         2530.0        120    3      c3   \n",
       "2         p1  614856.9  1031786.4         2993.2         20    2      c2   \n",
       "3         p2  613985.4  1030725.4         3072.0        100    3      c3   \n",
       "4         p3  614674.3  1023801.5         3007.4        180    1      c1   \n",
       "5         p4  615018.6  1023547.9         2999.8        180    1      c1   \n",
       "\n",
       "  Geology  Faramea_occidentalis  \n",
       "0      Tb                    14  \n",
       "1      Tb                     7  \n",
       "2      Tc                     0  \n",
       "3      Tc                     0  \n",
       "4      Tc                     2  \n",
       "5      Tc                     1  "
      ]
     },
     "execution_count": 26,
     "metadata": {},
     "output_type": "execute_result"
    }
   ],
   "source": [
    "names=['Unnamed: 0','UTM.EW','UTM.NS','Precipitation','Elevation','Age','Age.cat','Geology','Faramea_occidentalis']\n",
    "faramea=pd.read_csv(\"faramea.csv\",sep=\",\",header=0,names=names)\n",
    "faramea.head(6)\n"
   ]
  },
  {
   "cell_type": "markdown",
   "metadata": {},
   "source": [
    "plots"
   ]
  },
  {
   "cell_type": "code",
   "execution_count": 27,
   "metadata": {
    "cell_style": "split"
   },
   "outputs": [
    {
     "data": {
      "image/png": "[encoded data removed]",
      "text/plain": [
       "<Figure size 432x288 with 1 Axes>"
      ]
     },
     "metadata": {
      "needs_background": "light"
     },
     "output_type": "display_data"
    }
   ],
   "source": [
    "bins=np.arange(0, 46, step = 1)\n",
    "plt.hist(faramea.Faramea_occidentalis, bins=bins)\n",
    "plt.ylabel(' Frequency')\n",
    "plt.xlabel('Number of Faramea_occidentalis')\n",
    "plt.show()"
   ]
  },
  {
   "cell_type": "code",
   "execution_count": 57,
   "metadata": {
    "cell_style": "split"
   },
   "outputs": [
    {
     "data": {
      "image/png": "[encoded data removed]",
      "text/plain": [
       "<Figure size 432x288 with 1 Axes>"
      ]
     },
     "metadata": {
      "needs_background": "light"
     },
     "output_type": "display_data"
    }
   ],
   "source": [
    "plt.scatter(faramea.Elevation,faramea.Faramea_occidentalis, c = 'red', marker = '.')\n",
    "plt.ylabel('Number of Faramea_occidentalis')\n",
    "plt.xlabel('elevation(m)')\n",
    "plt.show()"
   ]
  },
  {
   "cell_type": "markdown",
   "metadata": {},
   "source": [
    "# Poisson GLM"
   ]
  },
  {
   "cell_type": "code",
   "execution_count": 58,
   "metadata": {
    "cell_style": "split"
   },
   "outputs": [
    {
     "data": {
      "text/html": [
       "<table class=\"simpletable\">\n",
       "<caption>Generalized Linear Model Regression Results</caption>\n",
       "<tr>\n",
       "  <th>Dep. Variable:</th>   <td>Faramea_occidentalis</td> <th>  No. Observations:  </th>  <td>    43</td> \n",
       "</tr>\n",
       "<tr>\n",
       "  <th>Model:</th>                    <td>GLM</td>         <th>  Df Residuals:      </th>  <td>    41</td> \n",
       "</tr>\n",
       "<tr>\n",
       "  <th>Model Family:</th>           <td>Poisson</td>       <th>  Df Model:          </th>  <td>     1</td> \n",
       "</tr>\n",
       "<tr>\n",
       "  <th>Link Function:</th>            <td>log</td>         <th>  Scale:             </th> <td>  1.0000</td>\n",
       "</tr>\n",
       "<tr>\n",
       "  <th>Method:</th>                  <td>IRLS</td>         <th>  Log-Likelihood:    </th> <td> -229.00</td>\n",
       "</tr>\n",
       "<tr>\n",
       "  <th>Date:</th>              <td>Sun, 08 Nov 2020</td>   <th>  Deviance:          </th> <td>  388.12</td>\n",
       "</tr>\n",
       "<tr>\n",
       "  <th>Time:</th>                  <td>19:45:35</td>       <th>  Pearson chi2:      </th>  <td>  655.</td> \n",
       "</tr>\n",
       "<tr>\n",
       "  <th>No. Iterations:</th>            <td>5</td>          <th>                     </th>     <td> </td>   \n",
       "</tr>\n",
       "<tr>\n",
       "  <th>Covariance Type:</th>       <td>nonrobust</td>      <th>                     </th>     <td> </td>   \n",
       "</tr>\n",
       "</table>\n",
       "<table class=\"simpletable\">\n",
       "<tr>\n",
       "      <td></td>         <th>coef</th>     <th>std err</th>      <th>z</th>      <th>P>|z|</th>  <th>[0.025</th>    <th>0.975]</th>  \n",
       "</tr>\n",
       "<tr>\n",
       "  <th>const</th>     <td>    1.7687</td> <td>    0.110</td> <td>   16.092</td> <td> 0.000</td> <td>    1.553</td> <td>    1.984</td>\n",
       "</tr>\n",
       "<tr>\n",
       "  <th>Elevation</th> <td>   -0.0027</td> <td>    0.001</td> <td>   -4.253</td> <td> 0.000</td> <td>   -0.004</td> <td>   -0.001</td>\n",
       "</tr>\n",
       "</table>"
      ],
      "text/plain": [
       "<class 'statsmodels.iolib.summary.Summary'>\n",
       "\"\"\"\n",
       "                  Generalized Linear Model Regression Results                   \n",
       "================================================================================\n",
       "Dep. Variable:     Faramea_occidentalis   No. Observations:                   43\n",
       "Model:                              GLM   Df Residuals:                       41\n",
       "Model Family:                   Poisson   Df Model:                            1\n",
       "Link Function:                      log   Scale:                          1.0000\n",
       "Method:                            IRLS   Log-Likelihood:                -229.00\n",
       "Date:                  Sun, 08 Nov 2020   Deviance:                       388.12\n",
       "Time:                          19:45:35   Pearson chi2:                     655.\n",
       "No. Iterations:                       5                                         \n",
       "Covariance Type:              nonrobust                                         \n",
       "==============================================================================\n",
       "                 coef    std err          z      P>|z|      [0.025      0.975]\n",
       "------------------------------------------------------------------------------\n",
       "const          1.7687      0.110     16.092      0.000       1.553       1.984\n",
       "Elevation     -0.0027      0.001     -4.253      0.000      -0.004      -0.001\n",
       "==============================================================================\n",
       "\"\"\""
      ]
     },
     "execution_count": 58,
     "metadata": {},
     "output_type": "execute_result"
    }
   ],
   "source": [
    "poisson_reg =sm.GLM(faramea.Faramea_occidentalis,sm.add_constant(faramea.Elevation.astype(float)), data = faramea, family =sm.families.Poisson()).fit()\n",
    "poisson_reg.summary()"
   ]
  },
  {
   "cell_type": "markdown",
   "metadata": {},
   "source": [
    "# Negative binomial GLMs"
   ]
  },
  {
   "cell_type": "code",
   "execution_count": 30,
   "metadata": {
    "cell_style": "center"
   },
   "outputs": [
    {
     "data": {
      "text/html": [
       "<table class=\"simpletable\">\n",
       "<caption>Generalized Linear Model Regression Results</caption>\n",
       "<tr>\n",
       "  <th>Dep. Variable:</th>   <td>Faramea_occidentalis</td> <th>  No. Observations:  </th>  <td>    43</td> \n",
       "</tr>\n",
       "<tr>\n",
       "  <th>Model:</th>                    <td>GLM</td>         <th>  Df Residuals:      </th>  <td>    41</td> \n",
       "</tr>\n",
       "<tr>\n",
       "  <th>Model Family:</th>      <td>NegativeBinomial</td>   <th>  Df Model:          </th>  <td>     1</td> \n",
       "</tr>\n",
       "<tr>\n",
       "  <th>Link Function:</th>            <td>log</td>         <th>  Scale:             </th> <td>  1.0000</td>\n",
       "</tr>\n",
       "<tr>\n",
       "  <th>Method:</th>                  <td>IRLS</td>         <th>  Log-Likelihood:    </th> <td> -100.37</td>\n",
       "</tr>\n",
       "<tr>\n",
       "  <th>Date:</th>              <td>Sun, 08 Nov 2020</td>   <th>  Deviance:          </th> <td>  91.089</td>\n",
       "</tr>\n",
       "<tr>\n",
       "  <th>Time:</th>                  <td>13:05:08</td>       <th>  Pearson chi2:      </th>  <td>  154.</td> \n",
       "</tr>\n",
       "<tr>\n",
       "  <th>No. Iterations:</th>           <td>12</td>          <th>                     </th>     <td> </td>   \n",
       "</tr>\n",
       "<tr>\n",
       "  <th>Covariance Type:</th>       <td>nonrobust</td>      <th>                     </th>     <td> </td>   \n",
       "</tr>\n",
       "</table>\n",
       "<table class=\"simpletable\">\n",
       "<tr>\n",
       "      <td></td>         <th>coef</th>     <th>std err</th>      <th>z</th>      <th>P>|z|</th>  <th>[0.025</th>    <th>0.975]</th>  \n",
       "</tr>\n",
       "<tr>\n",
       "  <th>const</th>     <td>    2.1108</td> <td>    0.259</td> <td>    8.144</td> <td> 0.000</td> <td>    1.603</td> <td>    2.619</td>\n",
       "</tr>\n",
       "<tr>\n",
       "  <th>Elevation</th> <td>   -0.0052</td> <td>    0.001</td> <td>   -3.642</td> <td> 0.000</td> <td>   -0.008</td> <td>   -0.002</td>\n",
       "</tr>\n",
       "</table>"
      ],
      "text/plain": [
       "<class 'statsmodels.iolib.summary.Summary'>\n",
       "\"\"\"\n",
       "                  Generalized Linear Model Regression Results                   \n",
       "================================================================================\n",
       "Dep. Variable:     Faramea_occidentalis   No. Observations:                   43\n",
       "Model:                              GLM   Df Residuals:                       41\n",
       "Model Family:          NegativeBinomial   Df Model:                            1\n",
       "Link Function:                      log   Scale:                          1.0000\n",
       "Method:                            IRLS   Log-Likelihood:                -100.37\n",
       "Date:                  Sun, 08 Nov 2020   Deviance:                       91.089\n",
       "Time:                          13:05:08   Pearson chi2:                     154.\n",
       "No. Iterations:                      12                                         \n",
       "Covariance Type:              nonrobust                                         \n",
       "==============================================================================\n",
       "                 coef    std err          z      P>|z|      [0.025      0.975]\n",
       "------------------------------------------------------------------------------\n",
       "const          2.1108      0.259      8.144      0.000       1.603       2.619\n",
       "Elevation     -0.0052      0.001     -3.642      0.000      -0.008      -0.002\n",
       "==============================================================================\n",
       "\"\"\""
      ]
     },
     "execution_count": 30,
     "metadata": {},
     "output_type": "execute_result"
    }
   ],
   "source": [
    "nbinomial_reg =sm.GLM(faramea.Faramea_occidentalis,sm.add_constant(faramea.Elevation.astype(float)), data = faramea, family =sm.families.NegativeBinomial()).fit()\n",
    "nbinomial_reg.summary()"
   ]
  },
  {
   "cell_type": "markdown",
   "metadata": {},
   "source": [
    "# Generalized linear mixed models"
   ]
  },
  {
   "cell_type": "code",
   "execution_count": 35,
   "metadata": {},
   "outputs": [
    {
     "data": {
      "text/html": [
       "<div>\n",
       "<style scoped>\n",
       "    .dataframe tbody tr th:only-of-type {\n",
       "        vertical-align: middle;\n",
       "    }\n",
       "\n",
       "    .dataframe tbody tr th {\n",
       "        vertical-align: top;\n",
       "    }\n",
       "\n",
       "    .dataframe thead th {\n",
       "        text-align: right;\n",
       "    }\n",
       "</style>\n",
       "<table border=\"1\" class=\"dataframe\">\n",
       "  <thead>\n",
       "    <tr style=\"text-align: right;\">\n",
       "      <th></th>\n",
       "      <th>Unnamed: 0</th>\n",
       "      <th>reg</th>\n",
       "      <th>popu</th>\n",
       "      <th>gen</th>\n",
       "      <th>rack</th>\n",
       "      <th>nutrient</th>\n",
       "      <th>amd</th>\n",
       "      <th>status</th>\n",
       "      <th>total_fruits</th>\n",
       "    </tr>\n",
       "  </thead>\n",
       "  <tbody>\n",
       "    <tr>\n",
       "      <th>0</th>\n",
       "      <td>1</td>\n",
       "      <td>NL</td>\n",
       "      <td>3.NL</td>\n",
       "      <td>4</td>\n",
       "      <td>2</td>\n",
       "      <td>1</td>\n",
       "      <td>clipped</td>\n",
       "      <td>Transplant</td>\n",
       "      <td>0</td>\n",
       "    </tr>\n",
       "    <tr>\n",
       "      <th>1</th>\n",
       "      <td>2</td>\n",
       "      <td>NL</td>\n",
       "      <td>3.NL</td>\n",
       "      <td>4</td>\n",
       "      <td>1</td>\n",
       "      <td>1</td>\n",
       "      <td>clipped</td>\n",
       "      <td>Petri.Plate</td>\n",
       "      <td>0</td>\n",
       "    </tr>\n",
       "    <tr>\n",
       "      <th>2</th>\n",
       "      <td>3</td>\n",
       "      <td>NL</td>\n",
       "      <td>3.NL</td>\n",
       "      <td>4</td>\n",
       "      <td>1</td>\n",
       "      <td>1</td>\n",
       "      <td>clipped</td>\n",
       "      <td>Normal</td>\n",
       "      <td>0</td>\n",
       "    </tr>\n",
       "    <tr>\n",
       "      <th>3</th>\n",
       "      <td>4</td>\n",
       "      <td>NL</td>\n",
       "      <td>3.NL</td>\n",
       "      <td>4</td>\n",
       "      <td>2</td>\n",
       "      <td>1</td>\n",
       "      <td>clipped</td>\n",
       "      <td>Normal</td>\n",
       "      <td>0</td>\n",
       "    </tr>\n",
       "    <tr>\n",
       "      <th>4</th>\n",
       "      <td>5</td>\n",
       "      <td>NL</td>\n",
       "      <td>3.NL</td>\n",
       "      <td>4</td>\n",
       "      <td>2</td>\n",
       "      <td>8</td>\n",
       "      <td>clipped</td>\n",
       "      <td>Transplant</td>\n",
       "      <td>0</td>\n",
       "    </tr>\n",
       "    <tr>\n",
       "      <th>...</th>\n",
       "      <td>...</td>\n",
       "      <td>...</td>\n",
       "      <td>...</td>\n",
       "      <td>...</td>\n",
       "      <td>...</td>\n",
       "      <td>...</td>\n",
       "      <td>...</td>\n",
       "      <td>...</td>\n",
       "      <td>...</td>\n",
       "    </tr>\n",
       "    <tr>\n",
       "      <th>620</th>\n",
       "      <td>828</td>\n",
       "      <td>SW</td>\n",
       "      <td>1.SW</td>\n",
       "      <td>25</td>\n",
       "      <td>2</td>\n",
       "      <td>8</td>\n",
       "      <td>unclipped</td>\n",
       "      <td>Normal</td>\n",
       "      <td>5</td>\n",
       "    </tr>\n",
       "    <tr>\n",
       "      <th>621</th>\n",
       "      <td>831</td>\n",
       "      <td>SW</td>\n",
       "      <td>1.SW</td>\n",
       "      <td>25</td>\n",
       "      <td>1</td>\n",
       "      <td>1</td>\n",
       "      <td>clipped</td>\n",
       "      <td>Transplant</td>\n",
       "      <td>3</td>\n",
       "    </tr>\n",
       "    <tr>\n",
       "      <th>622</th>\n",
       "      <td>853</td>\n",
       "      <td>SW</td>\n",
       "      <td>1.SW</td>\n",
       "      <td>27</td>\n",
       "      <td>2</td>\n",
       "      <td>8</td>\n",
       "      <td>unclipped</td>\n",
       "      <td>Normal</td>\n",
       "      <td>5</td>\n",
       "    </tr>\n",
       "    <tr>\n",
       "      <th>623</th>\n",
       "      <td>854</td>\n",
       "      <td>SW</td>\n",
       "      <td>1.SW</td>\n",
       "      <td>27</td>\n",
       "      <td>2</td>\n",
       "      <td>8</td>\n",
       "      <td>clipped</td>\n",
       "      <td>Transplant</td>\n",
       "      <td>5</td>\n",
       "    </tr>\n",
       "    <tr>\n",
       "      <th>624</th>\n",
       "      <td>902</td>\n",
       "      <td>SW</td>\n",
       "      <td>7.SW</td>\n",
       "      <td>35</td>\n",
       "      <td>2</td>\n",
       "      <td>1</td>\n",
       "      <td>clipped</td>\n",
       "      <td>Normal</td>\n",
       "      <td>3</td>\n",
       "    </tr>\n",
       "  </tbody>\n",
       "</table>\n",
       "<p>625 rows × 9 columns</p>\n",
       "</div>"
      ],
      "text/plain": [
       "     Unnamed: 0 reg  popu  gen  rack  nutrient        amd       status  \\\n",
       "0             1  NL  3.NL    4     2         1    clipped   Transplant   \n",
       "1             2  NL  3.NL    4     1         1    clipped  Petri.Plate   \n",
       "2             3  NL  3.NL    4     1         1    clipped       Normal   \n",
       "3             4  NL  3.NL    4     2         1    clipped       Normal   \n",
       "4             5  NL  3.NL    4     2         8    clipped   Transplant   \n",
       "..          ...  ..   ...  ...   ...       ...        ...          ...   \n",
       "620         828  SW  1.SW   25     2         8  unclipped       Normal   \n",
       "621         831  SW  1.SW   25     1         1    clipped   Transplant   \n",
       "622         853  SW  1.SW   27     2         8  unclipped       Normal   \n",
       "623         854  SW  1.SW   27     2         8    clipped   Transplant   \n",
       "624         902  SW  7.SW   35     2         1    clipped       Normal   \n",
       "\n",
       "     total_fruits  \n",
       "0               0  \n",
       "1               0  \n",
       "2               0  \n",
       "3               0  \n",
       "4               0  \n",
       "..            ...  \n",
       "620             5  \n",
       "621             3  \n",
       "622             5  \n",
       "623             5  \n",
       "624             3  \n",
       "\n",
       "[625 rows x 9 columns]"
      ]
     },
     "execution_count": 35,
     "metadata": {},
     "output_type": "execute_result"
    }
   ],
   "source": [
    "noms=['Unnamed: 0','reg','popu','gen','rack','nutrient','amd','status','total_fruits']\n",
    "dat_tf=pd.read_csv(\"Banta_TotalFruits.csv\",sep=\",\",header=0,names=noms)\n",
    "dat_tf"
   ]
  },
  {
   "cell_type": "code",
   "execution_count": 94,
   "metadata": {},
   "outputs": [],
   "source": [
    "#poisson_glm=BinomialBayesMixedGLM.from_formula(dat_tf.total_fruits,dat_tf.nutrient*dat_tf.amd + dat_tf.rack + dat_tf.status +(1-dat_tf.popu)+(1-dat_tf.gen)).fit()\n"
   ]
  }
 ],
 "metadata": {
  "celltoolbar": "Format de la Cellule Texte Brut",
  "hide_input": true,
  "kernelspec": {
   "display_name": "Python 3",
   "language": "python",
   "name": "python3"
  },
  "language_info": {
   "codemirror_mode": {
    "name": "ipython",
    "version": 3
   },
   "file_extension": ".py",
   "mimetype": "text/x-python",
   "name": "python",
   "nbconvert_exporter": "python",
   "pygments_lexer": "ipython3",
   "version": "3.8.3"
  },
  "latex_envs": {
   "LaTeX_envs_menu_present": false,
   "autoclose": false,
   "autocomplete": true,
   "bibliofile": "biblio.bib",
   "cite_by": "apalike",
   "current_citInitial": 1,
   "eqLabelWithNumbers": true,
   "eqNumInitial": 1,
   "hotkeys": {
    "equation": "Ctrl-E",
    "itemize": "Ctrl-I"
   },
   "labels_anchors": false,
   "latex_user_defs": false,
   "report_style_numbering": false,
   "user_envs_cfg": false
  }
 },
 "nbformat": 4,
 "nbformat_minor": 4
}
